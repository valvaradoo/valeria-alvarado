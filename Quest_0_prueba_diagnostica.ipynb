{
  "nbformat": 4,
  "nbformat_minor": 0,
  "metadata": {
    "colab": {
      "provenance": []
    },
    "kernelspec": {
      "name": "python3",
      "display_name": "Python 3"
    },
    "language_info": {
      "name": "python"
    }
  },
  "cells": [
    {
      "cell_type": "code",
      "execution_count": 8,
      "metadata": {
        "id": "vJ7q96PcoBD5"
      },
      "outputs": [],
      "source": []
    },
    {
      "cell_type": "markdown",
      "source": [],
      "metadata": {
        "id": "fO65Z5aQrxPC"
      }
    },
    {
      "cell_type": "markdown",
      "source": [
        "##Ejercicios de selección\n"
      ],
      "metadata": {
        "id": "ghy7mMI3om6s"
      }
    },
    {
      "cell_type": "code",
      "source": [
        "num = float(input(\"Introduce un número: \"))\n",
        "\n",
        "if num > 0:\n",
        "  print(\"El número es positivo.\")\n",
        "elif num == 0:\n",
        "  print(\"El número es cero.\")\n",
        "else:\n",
        "  print(\"El número es negativo.\")"
      ],
      "metadata": {
        "colab": {
          "base_uri": "https://localhost:8080/"
        },
        "id": "JjCjNCtQr2Ux",
        "outputId": "a42180ec-147c-4f68-c4de-c9ec98ea5356"
      },
      "execution_count": 3,
      "outputs": [
        {
          "output_type": "stream",
          "name": "stdout",
          "text": [
            "Introduce un número: 8\n",
            "El número es positivo.\n"
          ]
        }
      ]
    },
    {
      "cell_type": "code",
      "source": [
        "edad = int(input(\"Introduce tu edad: \"))\n",
        "\n",
        "if edad >= 18:\n",
        "  print(\"Eres mayor de edad.\")\n",
        "else:\n",
        "  print(\"Eres menor de edad.\")"
      ],
      "metadata": {
        "colab": {
          "base_uri": "https://localhost:8080/"
        },
        "id": "71kRusktsExp",
        "outputId": "459fb4a0-d142-4646-ccbd-899d30063b00"
      },
      "execution_count": 5,
      "outputs": [
        {
          "output_type": "stream",
          "name": "stdout",
          "text": [
            "Introduce tu edad: 8\n",
            "Eres menor de edad.\n"
          ]
        }
      ]
    },
    {
      "cell_type": "code",
      "source": [
        "calificacion = int(input(\"Introduce la calificación (0-100): \"))\n",
        "\n",
        "if calificacion >= 60:\n",
        "  print(\"Aprobado\")\n",
        "else:\n",
        "  print(\"Reprobado\")"
      ],
      "metadata": {
        "colab": {
          "base_uri": "https://localhost:8080/"
        },
        "id": "3kp2ydtXsKm5",
        "outputId": "b79009cb-b1d1-485d-c0ad-3d80df93e475"
      },
      "execution_count": 11,
      "outputs": [
        {
          "output_type": "stream",
          "name": "stdout",
          "text": [
            "Introduce la calificación (0-100): 102\n",
            "Aprobado\n"
          ]
        }
      ]
    },
    {
      "cell_type": "code",
      "source": [
        "numero = int(input(\"Introduce un número entero: \"))\n",
        "\n",
        "if numero % 2 == 0:\n",
        "  print(\"El número es par.\")\n",
        "else:\n",
        "  print(\"El número es impar.\")"
      ],
      "metadata": {
        "colab": {
          "base_uri": "https://localhost:8080/"
        },
        "id": "N2ae6j5tueZ_",
        "outputId": "d5e9a85c-fba8-4ed3-8921-3c5c36e002d6"
      },
      "execution_count": 8,
      "outputs": [
        {
          "output_type": "stream",
          "name": "stdout",
          "text": [
            "Introduce un número entero: 5\n",
            "El número es impar.\n"
          ]
        }
      ]
    },
    {
      "cell_type": "code",
      "source": [
        "numero1 = int(input(\"introduce un número al azar : \"))\n",
        "numero2 = int(input(\"digite el segundo número : \"))\n",
        "numero3 = int(input(\"digite el tercer número : \"))\n",
        "if numero1>numero2>numero3: print(\"el numero mayor es..., numero1\")\n",
        "if numero1>numero2>numero3: print(\"el numero mayor es..., numero2\")\n",
        "else:print(\"el numero mayor es...\", numero2)"
      ],
      "metadata": {
        "id": "kv00ceHPuyBf"
      },
      "execution_count": 8,
      "outputs": []
    },
    {
      "cell_type": "code",
      "source": [],
      "metadata": {
        "id": "3mkSrNZxwBT3"
      },
      "execution_count": null,
      "outputs": []
    }
  ]
}