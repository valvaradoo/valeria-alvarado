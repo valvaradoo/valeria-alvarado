{
  "nbformat": 4,
  "nbformat_minor": 0,
  "metadata": {
    "colab": {
      "provenance": [],
      "authorship_tag": "ABX9TyNkYIoGfaCBBS9wj3lGqn09",
      "include_colab_link": true
    },
    "kernelspec": {
      "name": "python3",
      "display_name": "Python 3"
    },
    "language_info": {
      "name": "python"
    }
  },
  "cells": [
    {
      "cell_type": "markdown",
      "metadata": {
        "id": "view-in-github",
        "colab_type": "text"
      },
      "source": [
        "<a href=\"https://colab.research.google.com/github/valvaradoo/valeria-alvarado/blob/main/Clase_1_Estructuras_de_seleccion.ipynb\" target=\"_parent\"><img src=\"https://colab.research.google.com/assets/colab-badge.svg\" alt=\"Open In Colab\"/></a>"
      ]
    },
    {
      "cell_type": "code",
      "execution_count": null,
      "metadata": {
        "id": "tqCRCo54AFQn"
      },
      "outputs": [],
      "source": []
    },
    {
      "cell_type": "markdown",
      "source": [
        "ESTRUCTURAS DE SELECCION\n",
        "\n",
        "\n",
        "\n",
        "Se emplean cuando se debe evaluar una condicion y esta da una condicion de verdad (V) o (F)."
      ],
      "metadata": {
        "id": "gN32zFg_AM88"
      }
    },
    {
      "cell_type": "markdown",
      "source": [
        "**Estructura if-else**\n",
        "\n",
        "\n",
        "if condicion:\n",
        "   entro aqui, si la condicion es verdadera\n",
        "else:\n",
        "   entro aqui, si la condicion es falsa"
      ],
      "metadata": {
        "id": "coeK301gAY-c"
      }
    },
    {
      "cell_type": "code",
      "source": [
        "#Escriba un programa que reciba un numero e indique si es positiva\n",
        "n=int(input(\"ingrese un numero \"))\n",
        "\n",
        "if n>0:\n",
        "  print(f\"{n} es un numero positivo\")\n",
        "else:\n",
        "  print(f\"{n} No es un numero positivo\")\n"
      ],
      "metadata": {
        "colab": {
          "base_uri": "https://localhost:8080/"
        },
        "id": "wpBTvfLiAyfs",
        "outputId": "ad8d2996-6892-43e1-9023-c766f13e5245"
      },
      "execution_count": 1,
      "outputs": [
        {
          "output_type": "stream",
          "name": "stdout",
          "text": [
            "ingrese un numero 5\n",
            "5 es un numero positivo\n"
          ]
        }
      ]
    },
    {
      "cell_type": "markdown",
      "source": [
        "Seleccion multiple if elif else\n",
        "\n",
        "\n",
        "if (condicion 1):\n",
        "   si se cumple condicion 1, entro aqui\n",
        "elif (condicion 2):\n",
        "  no se cumple la 1 pero si la 2, entro aqui\n",
        "else:\n",
        "   no se cumple ninguna"
      ],
      "metadata": {
        "id": "gPT4s8GmA-JE"
      }
    },
    {
      "cell_type": "code",
      "source": [
        "n=int(input(\"ingrese un numero \"))\n",
        "\n",
        "if n>0:\n",
        "  print(f\"{n} es un numero positivo\")\n",
        "elif n<0:\n",
        "  print(f\"{n} No es un numero positivo\")\n",
        "else:\n",
        "  print(f\"{n} es 0, osea neutro\")"
      ],
      "metadata": {
        "id": "oN_h5-FpBIkj"
      },
      "execution_count": null,
      "outputs": []
    },
    {
      "cell_type": "markdown",
      "source": [
        "Operador terniario\n",
        "\n",
        "\n",
        "Se usa cuando hay una condicion a evaluar simple y se desea resolver en una linea de codigo\n",
        "\n",
        "(valor de vrd) if (condicion) else (valor de falso)"
      ],
      "metadata": {
        "id": "YWEzsKNjBNm0"
      }
    },
    {
      "cell_type": "code",
      "source": [
        "print(f\"{n} es un numero positivo\") if n>0 else print(f\"{n} No es un numero positivo\")"
      ],
      "metadata": {
        "id": "x2VeXEIaBWKU"
      },
      "execution_count": null,
      "outputs": []
    },
    {
      "cell_type": "code",
      "source": [
        "a=f\"{n} es un numero positivo\" if n>0 else f\"{n} No es un numero positivo\"\n",
        "print(a)"
      ],
      "metadata": {
        "id": "W0E_Kwo8Ba7L"
      },
      "execution_count": null,
      "outputs": []
    },
    {
      "cell_type": "markdown",
      "source": [
        "**2**"
      ],
      "metadata": {
        "id": "8Qso9GKLBbcc"
      }
    },
    {
      "cell_type": "code",
      "source": [
        "n = int(input(\"Ingrese su edad en numero \"))\n",
        "if n >= 18:\n",
        "  print(\"es mayor de edad\")\n",
        "else:\n",
        "  print(\"es menor de edad\")\n"
      ],
      "metadata": {
        "id": "_tZGSNdQBgv0"
      },
      "execution_count": null,
      "outputs": []
    },
    {
      "cell_type": "code",
      "source": [
        "n = int(input(\"Ingrese su edad en numero \"))\n",
        "if n >= 21:\n",
        "  print(\"es mayor de edad en todos los paises del mundo\")\n",
        "elif n>=18:\n",
        "  print(\"es mayor de edad en colombia\")\n",
        "else:\n",
        "  print(\"es menor de edad\")\n"
      ],
      "metadata": {
        "id": "RLLM9MM1BtHD"
      },
      "execution_count": null,
      "outputs": []
    },
    {
      "cell_type": "code",
      "source": [
        "print(\"es mayor de edad\")if n >= 18 else print(\"es menor de edad\")"
      ],
      "metadata": {
        "id": "oD8aPa-hBu-b"
      },
      "execution_count": null,
      "outputs": []
    },
    {
      "cell_type": "markdown",
      "source": [
        "**3**"
      ],
      "metadata": {
        "id": "dG8BwM5tBxlT"
      }
    },
    {
      "cell_type": "code",
      "source": [
        "a = int(input(\"ingrese el primer numero \"))\n",
        "b = int(input(\"ingrese el segundo numero \"))\n",
        "\n",
        "if a > b:\n",
        "  print(\"a es mayor\")\n",
        "else:\n",
        "  print(\"b es mayor\")"
      ],
      "metadata": {
        "id": "tv0hEwMHB1Iz"
      },
      "execution_count": null,
      "outputs": []
    },
    {
      "cell_type": "code",
      "source": [
        "a = int(input(\"ingrese el primer numero \"))\n",
        "b = int(input(\"ingrese el segundo numero \"))\n",
        "\n",
        "if a > b:\n",
        "  print(\"a es mayor\")\n",
        "elif a == b:\n",
        "  print(\"son iguales\")\n",
        "else:\n",
        "  print(\"b es mayor\")"
      ],
      "metadata": {
        "id": "NAbbU7sKCE7j"
      },
      "execution_count": null,
      "outputs": []
    },
    {
      "cell_type": "code",
      "source": [
        "print(\"a es mayor\")if a > b else print(\"b es mayor\")"
      ],
      "metadata": {
        "id": "Vbtxhi10CHBz"
      },
      "execution_count": null,
      "outputs": []
    },
    {
      "cell_type": "markdown",
      "source": [
        "**4**"
      ],
      "metadata": {
        "id": "PS3z4MtBCNA7"
      }
    },
    {
      "cell_type": "code",
      "source": [
        "calificacion = int(input(\"ingrese su calificacion en numero \"))\n",
        "if calificacion >= 60:\n",
        "  print(\"APROBADO\")\n",
        "else:\n",
        "  print(\"REPROBADO\")"
      ],
      "metadata": {
        "id": "M8tYUPHFCWpy"
      },
      "execution_count": null,
      "outputs": []
    },
    {
      "cell_type": "code",
      "source": [
        "calificacion = int(input(\"ingrese su calificacion en numero \"))\n",
        "if calificacion >90:\n",
        "  print(\"APROBADO CON HONORES\")\n",
        "elif calificacion >= 60:\n",
        "  print(\"APROBADO\")\n",
        "else:\n",
        "  print(\"REPROBADO\")"
      ],
      "metadata": {
        "id": "Ekg-WB-OCuDK"
      },
      "execution_count": null,
      "outputs": []
    },
    {
      "cell_type": "code",
      "source": [
        "print(\"APROBADO\") if calificacion >= 60 else print(\"REPROBADO\")"
      ],
      "metadata": {
        "id": "6YexHZviCyqi"
      },
      "execution_count": null,
      "outputs": []
    },
    {
      "cell_type": "markdown",
      "source": [
        "**5**"
      ],
      "metadata": {
        "id": "Cbpj1Tx0C3-i"
      }
    },
    {
      "cell_type": "code",
      "source": [
        "a = int(input(\"ingrese un numero de su agrado \"))\n",
        "if a % 2:\n",
        "  print(\"el numero es impar\")\n",
        "else:\n",
        "  print(\"el numeor es par\")\n"
      ],
      "metadata": {
        "id": "EOOVU7viC-HK"
      },
      "execution_count": null,
      "outputs": []
    },
    {
      "cell_type": "code",
      "source": [
        "a = int(input(\"ingrese un numero de su agrado \"))\n",
        "if a % 2:\n",
        "  print(\"el numero es impar\")\n",
        "else:\n",
        "  print(\"el numeor es par\")"
      ],
      "metadata": {
        "id": "RimXFUvBDIDZ"
      },
      "execution_count": null,
      "outputs": []
    }
  ]
}