{
  "nbformat": 4,
  "nbformat_minor": 0,
  "metadata": {
    "colab": {
      "provenance": [],
      "authorship_tag": "ABX9TyMC5HgGMck/lpqLC+eof0yH",
      "include_colab_link": true
    },
    "kernelspec": {
      "name": "python3",
      "display_name": "Python 3"
    },
    "language_info": {
      "name": "python"
    }
  },
  "cells": [
    {
      "cell_type": "markdown",
      "metadata": {
        "id": "view-in-github",
        "colab_type": "text"
      },
      "source": [
        "<a href=\"https://colab.research.google.com/github/valvaradoo/valeria-alvarado/blob/main/Clase_2_Estructuras_de_repetici%C3%B3n.ipynb\" target=\"_parent\"><img src=\"https://colab.research.google.com/assets/colab-badge.svg\" alt=\"Open In Colab\"/></a>"
      ]
    },
    {
      "cell_type": "code",
      "execution_count": null,
      "metadata": {
        "id": "bjbz0bsxQU61"
      },
      "outputs": [],
      "source": []
    },
    {
      "cell_type": "markdown",
      "source": [
        "#estructuras de repetición\n",
        "permite repetir una o más acciones de acuerdo con una acondición (mientras se cumpla la condición)"
      ],
      "metadata": {
        "id": "AWagwdMKQ44g"
      }
    },
    {
      "cell_type": "markdown",
      "source": [
        "##Estructura para - for\n",
        "\n",
        "\n",
        "1.   cuando se sabe cúantas veces se repite una acción.\n",
        "2.   Está conformado por una condicción inicial (CI) una condición final (CF) y pasos (frecuencia de repetición).\n",
        "3. Esta estructura no se detenerá, hasta alcanzar CF-1\n",
        "\n",
        "\n",
        "estructura general del for\n",
        "\n",
        "\n",
        "```\n",
        "for (variable) in range (CI,CF,paso):\n",
        " se repite (CF+1-CI)/ paso veces una acción\n",
        "\n",
        "```\n",
        "estructura resumida del for\n",
        "```\n",
        "for (variable) in range (Cantidad):\n",
        " se repite cuantas veces una acción\n",
        "\n",
        "\n",
        "\n",
        "```\n",
        "estructura for como iteración  \n",
        "\n",
        "1.   El para (for) iteras tantas veces, como elmentos tenga la lista\n",
        "2.   la variable toma el valor de cada elmento de la lista por iteración\n",
        "\n",
        "\n",
        "```\n",
        "\n",
        "lista=[1,2,3,4,5]\n",
        "for (variable) in lista:\n",
        "    se permite len(lista)\n",
        "    \n",
        "```\n",
        "\n",
        "\n",
        "\n",
        "\n"
      ],
      "metadata": {
        "id": "MRB8mqsxRUpY"
      }
    },
    {
      "cell_type": "code",
      "source": [
        "#Hacer la tabla de multiplicar de un número n\n",
        "n=int(input(\"Digita un número:\"))"
      ],
      "metadata": {
        "colab": {
          "base_uri": "https://localhost:8080/"
        },
        "id": "iil1mNdAT132",
        "outputId": "67eb6bad-02c4-40b7-8f2f-d4ad7ee5506a"
      },
      "execution_count": null,
      "outputs": [
        {
          "name": "stdout",
          "output_type": "stream",
          "text": [
            "Digita un número:7\n"
          ]
        }
      ]
    },
    {
      "cell_type": "code",
      "source": [
        "print(f\"Tabla del {n}\")\n",
        "for holitas in range(1,11):\n",
        "  print(f\"{n} x {holitas}= {n*holitas}\")"
      ],
      "metadata": {
        "colab": {
          "base_uri": "https://localhost:8080/"
        },
        "id": "RMecd1-GUcvt",
        "outputId": "510b681c-5b04-4072-b15e-4b40839b2ba8"
      },
      "execution_count": null,
      "outputs": [
        {
          "output_type": "stream",
          "name": "stdout",
          "text": [
            "Tabla del 7\n",
            "7 x 1= 7\n",
            "7 x 2= 14\n",
            "7 x 3= 21\n",
            "7 x 4= 28\n",
            "7 x 5= 35\n",
            "7 x 6= 42\n",
            "7 x 7= 49\n",
            "7 x 8= 56\n",
            "7 x 9= 63\n",
            "7 x 10= 70\n"
          ]
        }
      ]
    },
    {
      "cell_type": "code",
      "source": [
        "print(\"tablas del 1 al 1o/n\")\n",
        "print(\"\")\n",
        "for tabla in range(1,11,1):\n",
        "  print(f\"tabla del {tabla}\")\n",
        "  for numero in range(1,11,1):\n",
        "    print(f\"{tabla} x {numero}= {tabla*numero}\")\n",
        "print(\"\")"
      ],
      "metadata": {
        "colab": {
          "base_uri": "https://localhost:8080/"
        },
        "id": "BzTsF456WvhK",
        "outputId": "97b2e8f2-2b5a-438e-c69f-efd1edddb0b4"
      },
      "execution_count": null,
      "outputs": [
        {
          "output_type": "stream",
          "name": "stdout",
          "text": [
            "tablas del 1 al 1o/n\n",
            "\n",
            "tabla del 1\n",
            "1 x 1= 1\n",
            "1 x 2= 2\n",
            "1 x 3= 3\n",
            "1 x 4= 4\n",
            "1 x 5= 5\n",
            "1 x 6= 6\n",
            "1 x 7= 7\n",
            "1 x 8= 8\n",
            "1 x 9= 9\n",
            "1 x 10= 10\n",
            "tabla del 2\n",
            "2 x 1= 2\n",
            "2 x 2= 4\n",
            "2 x 3= 6\n",
            "2 x 4= 8\n",
            "2 x 5= 10\n",
            "2 x 6= 12\n",
            "2 x 7= 14\n",
            "2 x 8= 16\n",
            "2 x 9= 18\n",
            "2 x 10= 20\n",
            "tabla del 3\n",
            "3 x 1= 3\n",
            "3 x 2= 6\n",
            "3 x 3= 9\n",
            "3 x 4= 12\n",
            "3 x 5= 15\n",
            "3 x 6= 18\n",
            "3 x 7= 21\n",
            "3 x 8= 24\n",
            "3 x 9= 27\n",
            "3 x 10= 30\n",
            "tabla del 4\n",
            "4 x 1= 4\n",
            "4 x 2= 8\n",
            "4 x 3= 12\n",
            "4 x 4= 16\n",
            "4 x 5= 20\n",
            "4 x 6= 24\n",
            "4 x 7= 28\n",
            "4 x 8= 32\n",
            "4 x 9= 36\n",
            "4 x 10= 40\n",
            "tabla del 5\n",
            "5 x 1= 5\n",
            "5 x 2= 10\n",
            "5 x 3= 15\n",
            "5 x 4= 20\n",
            "5 x 5= 25\n",
            "5 x 6= 30\n",
            "5 x 7= 35\n",
            "5 x 8= 40\n",
            "5 x 9= 45\n",
            "5 x 10= 50\n",
            "tabla del 6\n",
            "6 x 1= 6\n",
            "6 x 2= 12\n",
            "6 x 3= 18\n",
            "6 x 4= 24\n",
            "6 x 5= 30\n",
            "6 x 6= 36\n",
            "6 x 7= 42\n",
            "6 x 8= 48\n",
            "6 x 9= 54\n",
            "6 x 10= 60\n",
            "tabla del 7\n",
            "7 x 1= 7\n",
            "7 x 2= 14\n",
            "7 x 3= 21\n",
            "7 x 4= 28\n",
            "7 x 5= 35\n",
            "7 x 6= 42\n",
            "7 x 7= 49\n",
            "7 x 8= 56\n",
            "7 x 9= 63\n",
            "7 x 10= 70\n",
            "tabla del 8\n",
            "8 x 1= 8\n",
            "8 x 2= 16\n",
            "8 x 3= 24\n",
            "8 x 4= 32\n",
            "8 x 5= 40\n",
            "8 x 6= 48\n",
            "8 x 7= 56\n",
            "8 x 8= 64\n",
            "8 x 9= 72\n",
            "8 x 10= 80\n",
            "tabla del 9\n",
            "9 x 1= 9\n",
            "9 x 2= 18\n",
            "9 x 3= 27\n",
            "9 x 4= 36\n",
            "9 x 5= 45\n",
            "9 x 6= 54\n",
            "9 x 7= 63\n",
            "9 x 8= 72\n",
            "9 x 9= 81\n",
            "9 x 10= 90\n",
            "tabla del 10\n",
            "10 x 1= 10\n",
            "10 x 2= 20\n",
            "10 x 3= 30\n",
            "10 x 4= 40\n",
            "10 x 5= 50\n",
            "10 x 6= 60\n",
            "10 x 7= 70\n",
            "10 x 8= 80\n",
            "10 x 9= 90\n",
            "10 x 10= 100\n",
            "\n"
          ]
        }
      ]
    },
    {
      "cell_type": "code",
      "source": [
        "print (f\"tabla del {n}\")\n",
        "for holitas in range (10):\n",
        "  print(f\"{n}x{holitas+1}={n*(holitas+1)}\")"
      ],
      "metadata": {
        "colab": {
          "base_uri": "https://localhost:8080/"
        },
        "id": "GcwNue8Zf7wK",
        "outputId": "953208e0-7124-42dd-8596-a9c4f791042d"
      },
      "execution_count": null,
      "outputs": [
        {
          "output_type": "stream",
          "name": "stdout",
          "text": [
            "tabla del 7\n",
            "7x1=7\n",
            "7x2=14\n",
            "7x3=21\n",
            "7x4=28\n",
            "7x5=35\n",
            "7x6=42\n",
            "7x7=49\n",
            "7x8=56\n",
            "7x9=63\n",
            "7x10=70\n"
          ]
        }
      ]
    },
    {
      "cell_type": "code",
      "source": [
        "print(f\"tabla del {n}\")\n",
        "for holitas in range(1,11*n,n):\n",
        "  print(f\"{n} x {int(holitas/n)} = {n*int(holitas/n)}\")"
      ],
      "metadata": {
        "colab": {
          "base_uri": "https://localhost:8080/"
        },
        "id": "yMzmZyjqbYam",
        "outputId": "0f9417d5-8265-4200-fe92-9c5d544f3590"
      },
      "execution_count": null,
      "outputs": [
        {
          "output_type": "stream",
          "name": "stdout",
          "text": [
            "tabla del 7\n",
            "7 x 0 = 0\n",
            "7 x 1 = 7\n",
            "7 x 2 = 14\n",
            "7 x 3 = 21\n",
            "7 x 4 = 28\n",
            "7 x 5 = 35\n",
            "7 x 6 = 42\n",
            "7 x 7 = 49\n",
            "7 x 8 = 56\n",
            "7 x 9 = 63\n",
            "7 x 10 = 70\n"
          ]
        }
      ]
    },
    {
      "cell_type": "code",
      "source": [
        "numeros=[1,2,3,4,5,6,7,8,9,10]\n",
        "for num in numeros:\n",
        "  print(f\"{n} x {num} = {n*num}\")\n"
      ],
      "metadata": {
        "colab": {
          "base_uri": "https://localhost:8080/"
        },
        "id": "kT6kVDjMchdc",
        "outputId": "09a904a9-4da5-4165-b5a5-b77756dead28"
      },
      "execution_count": null,
      "outputs": [
        {
          "output_type": "stream",
          "name": "stdout",
          "text": [
            "7 x 1 = 7\n",
            "7 x 2 = 14\n",
            "7 x 3 = 21\n",
            "7 x 4 = 28\n",
            "7 x 5 = 35\n",
            "7 x 6 = 42\n",
            "7 x 7 = 49\n",
            "7 x 8 = 56\n",
            "7 x 9 = 63\n",
            "7 x 10 = 70\n"
          ]
        }
      ]
    },
    {
      "cell_type": "markdown",
      "source": [
        "#listas\n",
        "\n",
        "\n",
        "1.   Es un tipo de datos\n",
        "2.   Todos los elementos de la lita **deben** estar separados por coma\n",
        "3.   Forma canónica para declarar una lista\n",
        "\n",
        "\n",
        "(variable)=[]\n",
        "\n",
        "ejemplo:flores=[\"amapola\",\"tulipan\",\"lengua de suegra\",dahlia,rosa]\n",
        "\n"
      ],
      "metadata": {
        "id": "xiw6Ux0lzM6G"
      }
    },
    {
      "cell_type": "code",
      "source": [
        "dahlia=3 #variable de tipo numerica, int\n",
        "rosa=\"cinco\" #variable de tipo alfanumérico, str\n",
        "flores=[\"amapola\",\"tulipan\",\"lengua de suegra\", dahlia,rosa]"
      ],
      "metadata": {
        "id": "VJrrdf6KzvOe"
      },
      "execution_count": null,
      "outputs": []
    },
    {
      "cell_type": "markdown",
      "source": [
        "4.  Manual.\n",
        "\n",
        "```\n",
        "Lista 2=[dato1,dato2,dato3...datoN]\n",
        "```\n",
        "\n",
        "5. siempre son finitas\n",
        "6. son indexadas\n",
        "\n",
        "\n",
        "```\n",
        "Lista2=[dato1,dato2,dato3...datoN]\n",
        "```\n",
        "\n",
        "dato1 está en el index 0\n",
        "dato2 está ubicado en el index 1\n",
        "\n",
        "7. Estructuras **para** para la creación de listas\n",
        "\n",
        "```\n",
        "#Ejemplo: crear una lista de 5 elementos de lista=[] #Para que el programa sepa que es una lista\n",
        "for loquesea in range(5):\n",
        " lista=input(\"ingrese el nombre de una flor\")\n",
        "```\n",
        "\n"
      ],
      "metadata": {
        "id": "KIAo5onyzwl1"
      }
    },
    {
      "cell_type": "code",
      "source": [
        "lista=[]\n",
        "for loquesea in range(5):\n",
        "  lista=input (\"ingrese el nombre de una flor \")"
      ],
      "metadata": {
        "colab": {
          "base_uri": "https://localhost:8080/"
        },
        "id": "o2XbzDzI1Zh9",
        "outputId": "2125c027-4d23-4559-a1a6-2a20351fb468"
      },
      "execution_count": null,
      "outputs": [
        {
          "name": "stdout",
          "output_type": "stream",
          "text": [
            "ingrese el nombre de una flor rosa\n",
            "ingrese el nombre de una flor tulipan\n",
            "ingrese el nombre de una flor margarita\n",
            "ingrese el nombre de una flor amapola\n",
            "ingrese el nombre de una flor lengua de suegra \n"
          ]
        }
      ]
    },
    {
      "cell_type": "code",
      "source": [
        "flores"
      ],
      "metadata": {
        "id": "SZ779ICU4jRK"
      },
      "execution_count": null,
      "outputs": []
    },
    {
      "cell_type": "code",
      "source": [
        "#quiero saber quién esta en la primera posición\n",
        "flores[0]"
      ],
      "metadata": {
        "id": "s-npwsw82pbk"
      },
      "execution_count": null,
      "outputs": []
    },
    {
      "cell_type": "markdown",
      "source": [
        "saber quien esta en la ultima posición"
      ],
      "metadata": {
        "id": "EwUrWNlz2yGL"
      }
    },
    {
      "cell_type": "code",
      "source": [
        "flores[4]"
      ],
      "metadata": {
        "colab": {
          "base_uri": "https://localhost:8080/",
          "height": 141
        },
        "id": "Njj64sbc3yH6",
        "outputId": "c65871a5-c2b8-4d25-9721-92a23c510a6a"
      },
      "execution_count": null,
      "outputs": [
        {
          "output_type": "error",
          "ename": "NameError",
          "evalue": "name 'flores' is not defined",
          "traceback": [
            "\u001b[0;31m---------------------------------------------------------------------------\u001b[0m",
            "\u001b[0;31mNameError\u001b[0m                                 Traceback (most recent call last)",
            "\u001b[0;32m/tmp/ipython-input-1982289901.py\u001b[0m in \u001b[0;36m<cell line: 0>\u001b[0;34m()\u001b[0m\n\u001b[0;32m----> 1\u001b[0;31m \u001b[0mflores\u001b[0m\u001b[0;34m[\u001b[0m\u001b[0;36m4\u001b[0m\u001b[0;34m]\u001b[0m\u001b[0;34m\u001b[0m\u001b[0;34m\u001b[0m\u001b[0m\n\u001b[0m",
            "\u001b[0;31mNameError\u001b[0m: name 'flores' is not defined"
          ]
        }
      ]
    },
    {
      "cell_type": "code",
      "source": [
        "len(flores)"
      ],
      "metadata": {
        "id": "_B53c1xj4ssZ"
      },
      "execution_count": null,
      "outputs": []
    },
    {
      "cell_type": "code",
      "source": [
        "flores[len(flores)-1]"
      ],
      "metadata": {
        "id": "wu3UKvtp4vSR"
      },
      "execution_count": null,
      "outputs": []
    },
    {
      "cell_type": "markdown",
      "source": [
        "**1**"
      ],
      "metadata": {
        "id": "UV3_tqUw_AXK"
      }
    },
    {
      "cell_type": "code",
      "source": [
        "for i in range(1, 11):\n",
        "    print(i)\n"
      ],
      "metadata": {
        "id": "OWC9w21H_BLS"
      },
      "execution_count": null,
      "outputs": []
    },
    {
      "cell_type": "code",
      "source": [
        "numeros = list(range(1, 11))\n",
        "for n in numeros:\n",
        "    print(n)"
      ],
      "metadata": {
        "id": "ijvGKtfx_DTC"
      },
      "execution_count": null,
      "outputs": []
    },
    {
      "cell_type": "markdown",
      "source": [
        "**2**"
      ],
      "metadata": {
        "id": "2wRBkiEX_FJc"
      }
    },
    {
      "cell_type": "code",
      "source": [
        "suma = 0\n",
        "for i in range(1, 101):\n",
        "    suma += i\n",
        "print(\"La suma es:\", suma)\n"
      ],
      "metadata": {
        "id": "5r1_4HLW_F-y"
      },
      "execution_count": null,
      "outputs": []
    },
    {
      "cell_type": "code",
      "source": [
        "numeros = list(range(1, 101))\n",
        "suma = sum(numeros)\n",
        "print(\"La suma es:\", suma)\n"
      ],
      "metadata": {
        "id": "Rbi0O5pY_ILK"
      },
      "execution_count": null,
      "outputs": []
    },
    {
      "cell_type": "markdown",
      "source": [
        "**3**"
      ],
      "metadata": {
        "id": "346HrgQc_KUK"
      }
    },
    {
      "cell_type": "code",
      "source": [
        "for i in range(1, 31):\n",
        "    if i % 3 == 0:\n",
        "        print(i)"
      ],
      "metadata": {
        "id": "1H-5irJH_LNC"
      },
      "execution_count": null,
      "outputs": []
    },
    {
      "cell_type": "code",
      "source": [
        "multiplos = [n for n in range(1, 31) if n % 3 == 0]\n",
        "for m in multiplos:\n",
        "    print(m)\n"
      ],
      "metadata": {
        "id": "3is_jXYr_MzM"
      },
      "execution_count": null,
      "outputs": []
    },
    {
      "cell_type": "markdown",
      "source": [
        "**4**"
      ],
      "metadata": {
        "id": "JjHTc10E_Ok6"
      }
    },
    {
      "cell_type": "code",
      "source": [
        "num = int(input(\"Ingresa un número: \"))\n",
        "for i in range(1, 11):\n",
        "    print(f\"{num} x {i} = {num*i}\")\n"
      ],
      "metadata": {
        "id": "WO7nShZ0_PmC"
      },
      "execution_count": null,
      "outputs": []
    },
    {
      "cell_type": "code",
      "source": [
        "num = int(input(\"Ingresa un número: \"))\n",
        "tabla = [f\"{num} x {i} = {num*i}\" for i in range(1, 11)]\n",
        "for linea in tabla:\n",
        "    print(linea)\n"
      ],
      "metadata": {
        "id": "otDzB4fi_STa"
      },
      "execution_count": null,
      "outputs": []
    },
    {
      "cell_type": "markdown",
      "source": [
        "**5**"
      ],
      "metadata": {
        "id": "MRwnie-I_T7b"
      }
    },
    {
      "cell_type": "code",
      "source": [
        "suma = 0\n",
        "for i in range(5):\n",
        "    num = float(input(f\"Ingrese el número {i+1}: \"))\n",
        "    suma += num\n",
        "promedio = suma / 5\n",
        "print(\"El promedio es:\", promedio)\n"
      ],
      "metadata": {
        "id": "ObFZK-wy_Yxq"
      },
      "execution_count": null,
      "outputs": []
    },
    {
      "cell_type": "code",
      "source": [
        "numeros = [float(input(f\"Ingrese el número {i+1}: \")) for i in range(5)]\n",
        "promedio = sum(numeros) / len(numeros)\n",
        "print(\"El promedio es:\", promedio)\n"
      ],
      "metadata": {
        "id": "vgjf_Lzu_bHi"
      },
      "execution_count": null,
      "outputs": []
    },
    {
      "cell_type": "markdown",
      "source": [
        "**6**"
      ],
      "metadata": {
        "id": "p2ERWZFE_dH5"
      }
    },
    {
      "cell_type": "code",
      "source": [
        "n = int(input(\"Ingrese un número: \"))\n",
        "contador = 0\n",
        "for i in range(1, n+1):\n",
        "    if i % 2 == 0:\n",
        "        contador += 1\n",
        "print(\"Cantidad de pares:\", contador)\n"
      ],
      "metadata": {
        "id": "gRJFsWaV_eMx"
      },
      "execution_count": null,
      "outputs": []
    },
    {
      "cell_type": "code",
      "source": [
        "n = int(input(\"Ingrese un número: \"))\n",
        "pares = [i for i in range(1, n+1) if i % 2 == 0]\n",
        "print(\"Cantidad de pares:\", len(pares))\n"
      ],
      "metadata": {
        "id": "PUzLtp_K_gMi"
      },
      "execution_count": null,
      "outputs": []
    },
    {
      "cell_type": "markdown",
      "source": [
        "**7**"
      ],
      "metadata": {
        "id": "OlBM5tdX_imC"
      }
    },
    {
      "cell_type": "code",
      "source": [
        "apellido = input(\"Ingresa tu apellido: \")\n",
        "contraseña_valida = apellido + str(len(apellido))\n",
        "\n",
        "for _ in range(1000):  # límite de intentos para no ser infinito\n",
        "    password = input(\"Ingresa tu contraseña: \")\n",
        "    if password == contraseña_valida:\n",
        "        print(\"¡Contraseña correcta!\")\n",
        "        break\n"
      ],
      "metadata": {
        "id": "RwNlCrXU_lRq"
      },
      "execution_count": null,
      "outputs": []
    },
    {
      "cell_type": "code",
      "source": [
        "apellido = input(\"Ingresa tu apellido: \")\n",
        "contraseña_valida = apellido + str(len(apellido))\n",
        "\n",
        "# lista infinita simulada con iter(int, 1)\n",
        "for _ in iter(int, 1):\n",
        "    password = input(\"Ingresa tu contraseña: \")\n",
        "    if password == contraseña_valida:\n",
        "        print(\"¡Contraseña correcta!\")\n",
        "        break"
      ],
      "metadata": {
        "id": "SEqmPA5j_mAa"
      },
      "execution_count": null,
      "outputs": []
    }
  ]
}