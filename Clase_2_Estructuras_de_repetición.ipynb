{
  "nbformat": 4,
  "nbformat_minor": 0,
  "metadata": {
    "colab": {
      "provenance": [],
      "authorship_tag": "ABX9TyMIv3wmYvyZkWtFDH2UQz+R",
      "include_colab_link": true
    },
    "kernelspec": {
      "name": "python3",
      "display_name": "Python 3"
    },
    "language_info": {
      "name": "python"
    }
  },
  "cells": [
    {
      "cell_type": "markdown",
      "metadata": {
        "id": "view-in-github",
        "colab_type": "text"
      },
      "source": [
        "<a href=\"https://colab.research.google.com/github/valvaradoo/valeria-alvarado/blob/main/Clase_2_Estructuras_de_repetici%C3%B3n.ipynb\" target=\"_parent\"><img src=\"https://colab.research.google.com/assets/colab-badge.svg\" alt=\"Open In Colab\"/></a>"
      ]
    },
    {
      "cell_type": "code",
      "execution_count": null,
      "metadata": {
        "id": "bjbz0bsxQU61"
      },
      "outputs": [],
      "source": []
    },
    {
      "cell_type": "markdown",
      "source": [
        "#estructuras de repetición\n",
        "permite repetir una o más acciones de acuerdo con una acondición (mientras se cumpla la condición)"
      ],
      "metadata": {
        "id": "AWagwdMKQ44g"
      }
    },
    {
      "cell_type": "markdown",
      "source": [
        "##Estructura para - for\n",
        "\n",
        "\n",
        "1.   cuando se sabe cúantas veces se repite una acción.\n",
        "2.   Está conformado por una condicción inicial (CI) una condición final (CF) y pasos (frecuencia de repetición).\n",
        "3. Esta estructura no se detenerá, hasta alcanzar CF-1\n",
        "\n",
        "\n",
        "estructura general del for\n",
        "\n",
        "\n",
        "```\n",
        "for (variable) in range (CI,CF,paso):\n",
        " se repite (CF+1-CI)/ paso veces una acción\n",
        "\n",
        "```\n",
        "estructura resumida del for\n",
        "```\n",
        "for (variable) in range (Cantidad):\n",
        " se repite cuantas veces una acción\n",
        "\n",
        "\n",
        "\n",
        "```\n",
        "estructura for como iteración  \n",
        "\n",
        "1.   El para (for) iteras tantas veces, como elmentos tenga la lista\n",
        "2.   la variable toma el valor de cada elmento de la lista por iteración\n",
        "\n",
        "\n",
        "```\n",
        "\n",
        "lista=[1,2,3,4,5]\n",
        "for (variable) in lista:\n",
        "    se permite len(lista)\n",
        "    \n",
        "```\n",
        "\n",
        "\n",
        "\n",
        "\n"
      ],
      "metadata": {
        "id": "MRB8mqsxRUpY"
      }
    },
    {
      "cell_type": "code",
      "source": [
        "#Hacer la tabla de multiplicar de un número n\n",
        "n=int(input(\"Digita un número:\"))"
      ],
      "metadata": {
        "colab": {
          "base_uri": "https://localhost:8080/"
        },
        "id": "iil1mNdAT132",
        "outputId": "67eb6bad-02c4-40b7-8f2f-d4ad7ee5506a"
      },
      "execution_count": 23,
      "outputs": [
        {
          "name": "stdout",
          "output_type": "stream",
          "text": [
            "Digita un número:7\n"
          ]
        }
      ]
    },
    {
      "cell_type": "code",
      "source": [
        "print(f\"Tabla del {n}\")\n",
        "for holitas in range(1,11):\n",
        "  print(f\"{n} x {holitas}= {n*holitas}\")"
      ],
      "metadata": {
        "colab": {
          "base_uri": "https://localhost:8080/"
        },
        "id": "RMecd1-GUcvt",
        "outputId": "510b681c-5b04-4072-b15e-4b40839b2ba8"
      },
      "execution_count": 24,
      "outputs": [
        {
          "output_type": "stream",
          "name": "stdout",
          "text": [
            "Tabla del 7\n",
            "7 x 1= 7\n",
            "7 x 2= 14\n",
            "7 x 3= 21\n",
            "7 x 4= 28\n",
            "7 x 5= 35\n",
            "7 x 6= 42\n",
            "7 x 7= 49\n",
            "7 x 8= 56\n",
            "7 x 9= 63\n",
            "7 x 10= 70\n"
          ]
        }
      ]
    },
    {
      "cell_type": "code",
      "source": [
        "print(\"tablas del 1 al 1o/n\")\n",
        "print(\"\")\n",
        "for tabla in range(1,11,1):\n",
        "  print(f\"tabla del {tabla}\")\n",
        "  for numero in range(1,11,1):\n",
        "    print(f\"{tabla} x {numero}= {tabla*numero}\")\n",
        "print(\"\")"
      ],
      "metadata": {
        "colab": {
          "base_uri": "https://localhost:8080/"
        },
        "id": "BzTsF456WvhK",
        "outputId": "97b2e8f2-2b5a-438e-c69f-efd1edddb0b4"
      },
      "execution_count": 30,
      "outputs": [
        {
          "output_type": "stream",
          "name": "stdout",
          "text": [
            "tablas del 1 al 1o/n\n",
            "\n",
            "tabla del 1\n",
            "1 x 1= 1\n",
            "1 x 2= 2\n",
            "1 x 3= 3\n",
            "1 x 4= 4\n",
            "1 x 5= 5\n",
            "1 x 6= 6\n",
            "1 x 7= 7\n",
            "1 x 8= 8\n",
            "1 x 9= 9\n",
            "1 x 10= 10\n",
            "tabla del 2\n",
            "2 x 1= 2\n",
            "2 x 2= 4\n",
            "2 x 3= 6\n",
            "2 x 4= 8\n",
            "2 x 5= 10\n",
            "2 x 6= 12\n",
            "2 x 7= 14\n",
            "2 x 8= 16\n",
            "2 x 9= 18\n",
            "2 x 10= 20\n",
            "tabla del 3\n",
            "3 x 1= 3\n",
            "3 x 2= 6\n",
            "3 x 3= 9\n",
            "3 x 4= 12\n",
            "3 x 5= 15\n",
            "3 x 6= 18\n",
            "3 x 7= 21\n",
            "3 x 8= 24\n",
            "3 x 9= 27\n",
            "3 x 10= 30\n",
            "tabla del 4\n",
            "4 x 1= 4\n",
            "4 x 2= 8\n",
            "4 x 3= 12\n",
            "4 x 4= 16\n",
            "4 x 5= 20\n",
            "4 x 6= 24\n",
            "4 x 7= 28\n",
            "4 x 8= 32\n",
            "4 x 9= 36\n",
            "4 x 10= 40\n",
            "tabla del 5\n",
            "5 x 1= 5\n",
            "5 x 2= 10\n",
            "5 x 3= 15\n",
            "5 x 4= 20\n",
            "5 x 5= 25\n",
            "5 x 6= 30\n",
            "5 x 7= 35\n",
            "5 x 8= 40\n",
            "5 x 9= 45\n",
            "5 x 10= 50\n",
            "tabla del 6\n",
            "6 x 1= 6\n",
            "6 x 2= 12\n",
            "6 x 3= 18\n",
            "6 x 4= 24\n",
            "6 x 5= 30\n",
            "6 x 6= 36\n",
            "6 x 7= 42\n",
            "6 x 8= 48\n",
            "6 x 9= 54\n",
            "6 x 10= 60\n",
            "tabla del 7\n",
            "7 x 1= 7\n",
            "7 x 2= 14\n",
            "7 x 3= 21\n",
            "7 x 4= 28\n",
            "7 x 5= 35\n",
            "7 x 6= 42\n",
            "7 x 7= 49\n",
            "7 x 8= 56\n",
            "7 x 9= 63\n",
            "7 x 10= 70\n",
            "tabla del 8\n",
            "8 x 1= 8\n",
            "8 x 2= 16\n",
            "8 x 3= 24\n",
            "8 x 4= 32\n",
            "8 x 5= 40\n",
            "8 x 6= 48\n",
            "8 x 7= 56\n",
            "8 x 8= 64\n",
            "8 x 9= 72\n",
            "8 x 10= 80\n",
            "tabla del 9\n",
            "9 x 1= 9\n",
            "9 x 2= 18\n",
            "9 x 3= 27\n",
            "9 x 4= 36\n",
            "9 x 5= 45\n",
            "9 x 6= 54\n",
            "9 x 7= 63\n",
            "9 x 8= 72\n",
            "9 x 9= 81\n",
            "9 x 10= 90\n",
            "tabla del 10\n",
            "10 x 1= 10\n",
            "10 x 2= 20\n",
            "10 x 3= 30\n",
            "10 x 4= 40\n",
            "10 x 5= 50\n",
            "10 x 6= 60\n",
            "10 x 7= 70\n",
            "10 x 8= 80\n",
            "10 x 9= 90\n",
            "10 x 10= 100\n",
            "\n"
          ]
        }
      ]
    },
    {
      "cell_type": "code",
      "source": [
        "print (f\"tabla del {n}\")\n",
        "for holitas in range (10):\n",
        "  print(f\"{n}x{holitas+1}={n*(holitas+1)}\")"
      ],
      "metadata": {
        "colab": {
          "base_uri": "https://localhost:8080/"
        },
        "id": "GcwNue8Zf7wK",
        "outputId": "953208e0-7124-42dd-8596-a9c4f791042d"
      },
      "execution_count": 26,
      "outputs": [
        {
          "output_type": "stream",
          "name": "stdout",
          "text": [
            "tabla del 7\n",
            "7x1=7\n",
            "7x2=14\n",
            "7x3=21\n",
            "7x4=28\n",
            "7x5=35\n",
            "7x6=42\n",
            "7x7=49\n",
            "7x8=56\n",
            "7x9=63\n",
            "7x10=70\n"
          ]
        }
      ]
    },
    {
      "cell_type": "code",
      "source": [
        "print(f\"tabla del {n}\")\n",
        "for holitas in range(1,11*n,n):\n",
        "  print(f\"{n} x {int(holitas/n)} = {n*int(holitas/n)}\")"
      ],
      "metadata": {
        "colab": {
          "base_uri": "https://localhost:8080/"
        },
        "id": "yMzmZyjqbYam",
        "outputId": "0f9417d5-8265-4200-fe92-9c5d544f3590"
      },
      "execution_count": 27,
      "outputs": [
        {
          "output_type": "stream",
          "name": "stdout",
          "text": [
            "tabla del 7\n",
            "7 x 0 = 0\n",
            "7 x 1 = 7\n",
            "7 x 2 = 14\n",
            "7 x 3 = 21\n",
            "7 x 4 = 28\n",
            "7 x 5 = 35\n",
            "7 x 6 = 42\n",
            "7 x 7 = 49\n",
            "7 x 8 = 56\n",
            "7 x 9 = 63\n",
            "7 x 10 = 70\n"
          ]
        }
      ]
    },
    {
      "cell_type": "code",
      "source": [
        "numeros=[1,2,3,4,5,6,7,8,9,10]\n",
        "for num in numeros:\n",
        "  print(f\"{n} x {num} = {n*num}\")\n"
      ],
      "metadata": {
        "colab": {
          "base_uri": "https://localhost:8080/"
        },
        "id": "kT6kVDjMchdc",
        "outputId": "09a904a9-4da5-4165-b5a5-b77756dead28"
      },
      "execution_count": 29,
      "outputs": [
        {
          "output_type": "stream",
          "name": "stdout",
          "text": [
            "7 x 1 = 7\n",
            "7 x 2 = 14\n",
            "7 x 3 = 21\n",
            "7 x 4 = 28\n",
            "7 x 5 = 35\n",
            "7 x 6 = 42\n",
            "7 x 7 = 49\n",
            "7 x 8 = 56\n",
            "7 x 9 = 63\n",
            "7 x 10 = 70\n"
          ]
        }
      ]
    }
  ]
}